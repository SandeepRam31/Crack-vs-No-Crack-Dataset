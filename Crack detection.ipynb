{
 "cells": [
  {
   "cell_type": "code",
   "execution_count": 1,
   "id": "3e0d1daa",
   "metadata": {},
   "outputs": [],
   "source": [
    "import tensorflow as tf\n",
    "from tensorflow.keras.models import Sequential, Model\n",
    "from tensorflow.keras.layers import Conv2D, BatchNormalization, MaxPooling2D, GlobalAveragePooling2D, Dropout, Input,\\\n",
    "Flatten, Dense, MaxPool2D\n",
    "import os\n",
    "import sys\n",
    "import numpy as np"
   ]
  },
  {
   "cell_type": "code",
   "execution_count": 4,
   "id": "f661e738",
   "metadata": {},
   "outputs": [
    {
     "data": {
      "text/plain": [
       "['.ipynb_checkpoints',\n",
       " 'code_files',\n",
       " 'Crack detection.ipynb',\n",
       " 'images',\n",
       " 'predict',\n",
       " 'Results']"
      ]
     },
     "execution_count": 4,
     "metadata": {},
     "output_type": "execute_result"
    }
   ],
   "source": [
    "os.listdir()"
   ]
  },
  {
   "cell_type": "code",
   "execution_count": 3,
   "id": "eccacbfa",
   "metadata": {},
   "outputs": [],
   "source": [
    "# model = Sequential([\n",
    "#     Input(shape = (227, 227, 3)),\n",
    "#     Conv2D(32, 3, padding = 'same', strides = 1, activation = 'relu'),\n",
    "#     BatchNormalization(),\n",
    "#     MaxPooling2D(),\n",
    "#     Dropout(0.5),\n",
    "#     Conv2D(64, 3, padding = 'same', strides = 1, activation = 'relu'),\n",
    "#     BatchNormalization(),\n",
    "#     MaxPooling2D(),\n",
    "#     Dropout(0.5),\n",
    "#     Conv2D(128, 3, padding = 'same', strides = 1, activation = 'relu'),\n",
    "#     BatchNormalization(),\n",
    "#     Dropout(0.5),\n",
    "#     GlobalAveragePooling2D(),\n",
    "#     Dense(64, activation = 'relu'),\n",
    "#     Dense(1, activation = 'softmax')\n",
    "# ])\n",
    "\n",
    "# model.compile(\n",
    "#     metrics = ['accuracy'],\n",
    "#     optimizer = 'adam',\n",
    "#     loss = 'BinaryCrossentropy'\n",
    "# )"
   ]
  },
  {
   "cell_type": "code",
   "execution_count": 3,
   "id": "95cec3de",
   "metadata": {},
   "outputs": [],
   "source": [
    "input_layer = Input(shape=(227,227,3))\n",
    "x = Conv2D(16,3,activation=\"relu\")(input_layer)\n",
    "x = MaxPool2D((2,2))(x)\n",
    "\n",
    "x = Conv2D(32,3,activation=\"relu\")(x)\n",
    "x = MaxPool2D((2,2))(x)\n",
    "x = GlobalAveragePooling2D()(x)\n",
    "\n",
    "output = Dense(1,activation=\"sigmoid\")(x)\n",
    "\n",
    "model=tf.keras.Model(inputs = [input_layer], outputs = [output])\n",
    "\n",
    "model.compile(optimizer=\"adam\",loss=\"binary_crossentropy\",metrics=[\"accuracy\"])"
   ]
  },
  {
   "cell_type": "code",
   "execution_count": 4,
   "id": "27fee539",
   "metadata": {},
   "outputs": [
    {
     "name": "stdout",
     "output_type": "stream",
     "text": [
      "Model: \"model\"\n",
      "_________________________________________________________________\n",
      "Layer (type)                 Output Shape              Param #   \n",
      "=================================================================\n",
      "input_1 (InputLayer)         [(None, 227, 227, 3)]     0         \n",
      "_________________________________________________________________\n",
      "conv2d (Conv2D)              (None, 225, 225, 16)      448       \n",
      "_________________________________________________________________\n",
      "max_pooling2d (MaxPooling2D) (None, 112, 112, 16)      0         \n",
      "_________________________________________________________________\n",
      "conv2d_1 (Conv2D)            (None, 110, 110, 32)      4640      \n",
      "_________________________________________________________________\n",
      "max_pooling2d_1 (MaxPooling2 (None, 55, 55, 32)        0         \n",
      "_________________________________________________________________\n",
      "global_average_pooling2d (Gl (None, 32)                0         \n",
      "_________________________________________________________________\n",
      "dense (Dense)                (None, 1)                 33        \n",
      "=================================================================\n",
      "Total params: 5,121\n",
      "Trainable params: 5,121\n",
      "Non-trainable params: 0\n",
      "_________________________________________________________________\n"
     ]
    }
   ],
   "source": [
    "model.summary()"
   ]
  },
  {
   "cell_type": "code",
   "execution_count": 5,
   "id": "9673a900",
   "metadata": {},
   "outputs": [
    {
     "name": "stdout",
     "output_type": "stream",
     "text": [
      "Found 40000 files belonging to 2 classes.\n",
      "Using 36000 files for training.\n",
      "Found 40000 files belonging to 2 classes.\n",
      "Using 4000 files for validation.\n"
     ]
    }
   ],
   "source": [
    "train_ds = tf.keras.preprocessing.image_dataset_from_directory(\n",
    "            'images',\n",
    "            labels = 'inferred',\n",
    "            label_mode = 'binary',\n",
    "            color_mode = 'rgb',\n",
    "            batch_size = 32,\n",
    "            shuffle = True,\n",
    "            image_size = (227, 227),\n",
    "            validation_split = 0.1,\n",
    "            subset = 'training',\n",
    "            seed = 123,\n",
    ")\n",
    "\n",
    "val_ds = tf.keras.preprocessing.image_dataset_from_directory(\n",
    "            'images',\n",
    "            labels = 'inferred',\n",
    "            label_mode = 'binary',\n",
    "            color_mode = 'rgb',\n",
    "            batch_size = 32,\n",
    "            shuffle = True,\n",
    "            image_size = (227, 227),\n",
    "            validation_split = 0.1,\n",
    "            subset = 'validation',\n",
    "            seed = 123,\n",
    ")"
   ]
  },
  {
   "cell_type": "code",
   "execution_count": 7,
   "id": "89dd880a",
   "metadata": {},
   "outputs": [],
   "source": [
    "def preprocess(x, y):\n",
    "    image = x/ 255.0\n",
    "    return image, y"
   ]
  },
  {
   "cell_type": "code",
   "execution_count": 8,
   "id": "926c1e3b",
   "metadata": {},
   "outputs": [],
   "source": [
    "train_ds, val_ds = train_ds.map(preprocess), val_ds.map(preprocess)"
   ]
  },
  {
   "cell_type": "code",
   "execution_count": 9,
   "id": "03438509",
   "metadata": {},
   "outputs": [
    {
     "name": "stdout",
     "output_type": "stream",
     "text": [
      "Epoch 1/10\n",
      "1125/1125 [==============================] - 79s 67ms/step - loss: 0.5802 - accuracy: 0.6860 - val_loss: 0.2296 - val_accuracy: 0.9507\n",
      "INFO:tensorflow:Assets written to: model_saves\\assets\n",
      "Epoch 2/10\n",
      "1125/1125 [==============================] - 66s 58ms/step - loss: 0.2142 - accuracy: 0.9408 - val_loss: 0.1820 - val_accuracy: 0.9420\n",
      "INFO:tensorflow:Assets written to: model_saves\\assets\n",
      "Epoch 3/10\n",
      "1125/1125 [==============================] - 67s 59ms/step - loss: 0.1646 - accuracy: 0.9561 - val_loss: 0.1396 - val_accuracy: 0.9620\n",
      "INFO:tensorflow:Assets written to: model_saves\\assets\n",
      "Epoch 4/10\n",
      "1125/1125 [==============================] - 69s 62ms/step - loss: 0.1329 - accuracy: 0.9639 - val_loss: 0.1255 - val_accuracy: 0.9592\n",
      "INFO:tensorflow:Assets written to: model_saves\\assets\n",
      "Epoch 5/10\n",
      "1125/1125 [==============================] - 67s 59ms/step - loss: 0.1162 - accuracy: 0.9657 - val_loss: 0.1222 - val_accuracy: 0.9528\n",
      "INFO:tensorflow:Assets written to: model_saves\\assets\n",
      "Epoch 6/10\n",
      "1125/1125 [==============================] - 67s 59ms/step - loss: 0.1024 - accuracy: 0.9697 - val_loss: 0.1052 - val_accuracy: 0.9670\n",
      "INFO:tensorflow:Assets written to: model_saves\\assets\n",
      "Epoch 7/10\n",
      "1125/1125 [==============================] - 71s 63ms/step - loss: 0.1015 - accuracy: 0.9702 - val_loss: 0.0954 - val_accuracy: 0.9693\n",
      "INFO:tensorflow:Assets written to: model_saves\\assets\n",
      "Epoch 8/10\n",
      "1125/1125 [==============================] - 67s 60ms/step - loss: 0.0919 - accuracy: 0.9721 - val_loss: 0.0929 - val_accuracy: 0.9697\n",
      "INFO:tensorflow:Assets written to: model_saves\\assets\n",
      "Epoch 9/10\n",
      "1125/1125 [==============================] - 68s 61ms/step - loss: 0.0880 - accuracy: 0.9732 - val_loss: 0.0904 - val_accuracy: 0.9768\n",
      "INFO:tensorflow:Assets written to: model_saves\\assets\n",
      "Epoch 10/10\n",
      "1125/1125 [==============================] - 73s 65ms/step - loss: 0.0903 - accuracy: 0.9730 - val_loss: 0.0947 - val_accuracy: 0.9680\n"
     ]
    },
    {
     "data": {
      "text/plain": [
       "<tensorflow.python.keras.callbacks.History at 0x1e915c98fd0>"
      ]
     },
     "execution_count": 9,
     "metadata": {},
     "output_type": "execute_result"
    }
   ],
   "source": [
    "model.fit(train_ds, epochs = 10, verbose = 1, validation_data = val_ds,\n",
    "         callbacks = [tf.keras.callbacks.ModelCheckpoint('model_saves', 'val_loss', save_best_only = True,),\n",
    "                     tf.keras.callbacks.EarlyStopping(monitor=\"val_loss\",\n",
    "                                                    min_delta=0,\n",
    "                                                    patience=1,\n",
    "                                                    verbose=0,\n",
    "                                                    mode=\"auto\",\n",
    "                                                    baseline=None,\n",
    "                                                    restore_best_weights=True,)])"
   ]
  },
  {
   "cell_type": "code",
   "execution_count": 14,
   "id": "9d614509",
   "metadata": {},
   "outputs": [
    {
     "name": "stdout",
     "output_type": "stream",
     "text": [
      "125/125 [==============================] - 5s 38ms/step - loss: 0.0904 - accuracy: 0.9768\n"
     ]
    },
    {
     "data": {
      "text/plain": [
       "[0.0904291644692421, 0.9767500162124634]"
      ]
     },
     "execution_count": 14,
     "metadata": {},
     "output_type": "execute_result"
    }
   ],
   "source": [
    "model.evaluate(val_ds)"
   ]
  },
  {
   "cell_type": "code",
   "execution_count": 5,
   "id": "46d48211",
   "metadata": {},
   "outputs": [],
   "source": [
    "model_loaded = tf.keras.models.load_model(f'code_files/neural network')"
   ]
  },
  {
   "cell_type": "code",
   "execution_count": 6,
   "id": "bc279a19",
   "metadata": {},
   "outputs": [
    {
     "data": {
      "image/png": "[encoded data removed]",
      "text/plain": [
       "<IPython.core.display.Image object>"
      ]
     },
     "execution_count": 6,
     "metadata": {},
     "output_type": "execute_result"
    }
   ],
   "source": [
    "tf.keras.utils.plot_model(model_loaded)"
   ]
  },
  {
   "cell_type": "code",
   "execution_count": 19,
   "id": "4cbd22f6",
   "metadata": {},
   "outputs": [
    {
     "name": "stdout",
     "output_type": "stream",
     "text": [
      "125/125 [==============================] - 5s 37ms/step - loss: 0.0904 - accuracy: 0.9768\n"
     ]
    },
    {
     "data": {
      "text/plain": [
       "[0.09042918682098389, 0.9767500162124634]"
      ]
     },
     "execution_count": 19,
     "metadata": {},
     "output_type": "execute_result"
    }
   ],
   "source": [
    "model_loaded.evaluate(val_ds)"
   ]
  },
  {
   "cell_type": "code",
   "execution_count": 28,
   "id": "5b670313",
   "metadata": {},
   "outputs": [],
   "source": [
    "class GradCAM:\n",
    "    def __init__(self, model, classIdx, layerName=None):\n",
    "        # store the model, the class index used to measure the class\n",
    "        # activation map, and the layer to be used when visualizing\n",
    "        # the class activation map\n",
    "        self.model = model\n",
    "        self.classIdx = classIdx\n",
    "        self.layerName = layerName\n",
    "\n",
    "        # if the layer name is None, attempt to automatically find\n",
    "        # the target output layer\n",
    "        if self.layerName is None:\n",
    "            self.layerName = self.find_target_layer()\n",
    "\n",
    "    def find_target_layer(self):\n",
    "        # attempt to find the final convolutional layer in the network\n",
    "        # by looping over the layers of the network in reverse order\n",
    "        for layer in reversed(self.model.layers):\n",
    "            # check to see if the layer has a 4D output\n",
    "            if len(layer.output.shape) == 4:\n",
    "                return layer.name\n",
    "\n",
    "        # otherwise, we could not find a 4D layer so the GradCAM\n",
    "        # algorithm cannot be applied\n",
    "        raise ValueError(\"Could not find 4D layer. Cannot apply GradCAM.\")\n",
    "\n",
    "    def compute_heatmap(self, image, eps=1e-8):\n",
    "        \n",
    "        # construct our gradient model by supplying (1) the inputs\n",
    "        # to our pre-trained model, (2) the output of the (presumably)\n",
    "        # final 4D layer in the network, and (3) the output of the\n",
    "        # softmax activations from the model\n",
    "        \n",
    "        gradModel = Model(\n",
    "            inputs=[self.model.inputs],\n",
    "            outputs= [self.model.get_layer(self.layerName).output, self.model.output]\n",
    "        )\n",
    "\n",
    "        # record operations for automatic differentiation\n",
    "        with tf.GradientTape() as tape:\n",
    "            # cast the image tensor to a float-32 data type, pass the\n",
    "            # image through the gradient model, and grab the loss\n",
    "            # associated with the specific class index\n",
    "            inputs = tf.cast(image, tf.float32)\n",
    "            (convOutputs, predictions) = gradModel(inputs)\n",
    "            loss = predictions[:, self.classIdx]\n",
    "\n",
    "        # use automatic differentiation to compute the gradients\n",
    "        grads = tape.gradient(loss, convOutputs)\n",
    "\n",
    "        # compute the guided gradients\n",
    "        castConvOutputs = tf.cast(convOutputs > 0, \"float32\")\n",
    "        castGrads = tf.cast(grads > 0, \"float32\")\n",
    "        guidedGrads = castConvOutputs * castGrads * grads\n",
    "\n",
    "        # the convolution and guided gradients have a batch dimension\n",
    "        # (which we don't need) so let's grab the volume itself and\n",
    "        # discard the batch\n",
    "        convOutputs = convOutputs[0]\n",
    "        guidedGrads = guidedGrads[0]\n",
    "\n",
    "        # compute the average of the gradient values, and using them\n",
    "        # as weights, compute the ponderation of the filters with\n",
    "        # respect to the weights\n",
    "        weights = tf.reduce_mean(guidedGrads, axis=(0, 1))\n",
    "        cam = tf.reduce_sum(tf.multiply(weights, convOutputs), axis=-1)\n",
    "\n",
    "        # grab the spatial dimensions of the input image and resize\n",
    "        # the output class activation map to match the input image\n",
    "        # dimensions\n",
    "        (w, h) = (image.shape[2], image.shape[1])\n",
    "        heatmap = cv2.resize(cam.numpy(), (w, h))\n",
    "\n",
    "        # normalize the heatmap such that all values lie in the range\n",
    "        # [0, 1], scale the resulting values to the range [0, 255],\n",
    "        # and then convert to an unsigned 8-bit integer\n",
    "        numer = heatmap - np.min(heatmap)\n",
    "        denom = (heatmap.max() - heatmap.min()) + eps\n",
    "        heatmap = numer / denom\n",
    "        heatmap = (heatmap * 255).astype(\"uint8\")\n",
    "\n",
    "        # return the resulting heatmap to the calling function\n",
    "        return heatmap\n",
    "\n",
    "    def overlay_heatmap(self, heatmap, image, alpha=0.5,\n",
    "        colormap=cv2.COLORMAP_JET):\n",
    "        # apply the supplied color map to the heatmap and then\n",
    "        # overlay the heatmap on the input image\n",
    "        heatmap = cv2.applyColorMap(heatmap, colormap)\n",
    "        output = cv2.addWeighted(image, alpha, heatmap, 1 - alpha, 0)\n",
    "\n",
    "        # return a 2-tuple of the color mapped heatmap and the output,\n",
    "        # overlaid image\n",
    "        return (heatmap, output)"
   ]
  },
  {
   "cell_type": "code",
   "execution_count": 22,
   "id": "d0279562",
   "metadata": {},
   "outputs": [
    {
     "data": {
      "text/plain": [
       "<tensorflow.python.keras.layers.convolutional.Conv2D at 0x1eb5a0f5520>"
      ]
     },
     "execution_count": 22,
     "metadata": {},
     "output_type": "execute_result"
    }
   ],
   "source": [
    "model_loaded.get_layer('conv2d_1')"
   ]
  },
  {
   "cell_type": "code",
   "execution_count": 23,
   "id": "7f03e24c",
   "metadata": {},
   "outputs": [],
   "source": [
    "import cv2"
   ]
  },
  {
   "cell_type": "code",
   "execution_count": 25,
   "id": "40458e19",
   "metadata": {},
   "outputs": [],
   "source": [
    "from tensorflow.keras.preprocessing.image import load_img, img_to_array\n",
    "\n",
    "image = load_img(r\"Sutta Reddy/Positive/00001.jpg\", target_size=(227, 227))\n",
    "image = img_to_array(image)\n",
    "image = np.expand_dims(image, axis=0)\n",
    "image /= 255.0\n",
    "\n",
    "preds = model.predict(image)\n",
    "i = np.argmax(preds[0])"
   ]
  },
  {
   "cell_type": "code",
   "execution_count": 33,
   "id": "9710abf1",
   "metadata": {},
   "outputs": [],
   "source": [
    "classes = ['Positive', 'Negative']"
   ]
  },
  {
   "cell_type": "code",
   "execution_count": 34,
   "id": "e782efa5",
   "metadata": {},
   "outputs": [],
   "source": [
    "label = classes[i]"
   ]
  },
  {
   "cell_type": "code",
   "execution_count": 29,
   "id": "73d7989d",
   "metadata": {},
   "outputs": [],
   "source": [
    "cam = GradCAM(model_loaded, i)\n",
    "heatmap = cam.compute_heatmap(image)"
   ]
  },
  {
   "cell_type": "code",
   "execution_count": 31,
   "id": "47997cbb",
   "metadata": {},
   "outputs": [],
   "source": [
    "# resize the resulting heatmap to the original input image dimensions\n",
    "# and then overlay heatmap on top of the image\n",
    "orig = cv2.imread(\"Sutta Reddy/Positive/00001.jpg\")\n",
    "heatmap = cv2.resize(heatmap, (orig.shape[1], orig.shape[0]))\n",
    "(heatmap, output) = cam.overlay_heatmap(heatmap, orig, alpha=0.5)"
   ]
  },
  {
   "cell_type": "code",
   "execution_count": 38,
   "id": "91d4b93e",
   "metadata": {},
   "outputs": [],
   "source": [
    "# draw the predicted label on the output image\n",
    "cv2.rectangle(output, (0, 0), (340, 40), (0, 0, 0), -1)\n",
    "cv2.putText(output, label, (10, 25), cv2.FONT_HERSHEY_SIMPLEX, 0.8, (255, 255, 255), 2)\n",
    "\n",
    "# display the original image and resulting heatmap and output image\n",
    "# to our screen\n",
    "output = np.vstack([orig, heatmap, output])\n",
    "# output = imutils.resize(output, height=700)\n",
    "cv2.imshow(\"Output\", output)\n",
    "cv2.waitKey(0)\n",
    "cv2.destroyAllWindows()"
   ]
  }
 ],
 "metadata": {
  "kernelspec": {
   "display_name": "deeplearning",
   "language": "python",
   "name": "deeplearning"
  },
  "language_info": {
   "codemirror_mode": {
    "name": "ipython",
    "version": 3
   },
   "file_extension": ".py",
   "mimetype": "text/x-python",
   "name": "python",
   "nbconvert_exporter": "python",
   "pygments_lexer": "ipython3",
   "version": "3.8.6"
  }
 },
 "nbformat": 4,
 "nbformat_minor": 5
}
